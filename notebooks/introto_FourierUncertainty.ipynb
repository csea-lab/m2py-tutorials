{
 "cells": [
  {
   "cell_type": "raw",
   "metadata": {},
   "source": [
    "---\n",
    "title: Introduction to Fourier Uncertainty\n",
    "format:\n",
    "   html:\n",
    "      code-fold: false\n",
    "---"
   ]
  },
  {
   "attachments": {},
   "cell_type": "markdown",
   "metadata": {},
   "source": [
    "# Demo of the Fourier uncertainty principle: \n",
    "#### *The trade-off between time resolution and frequency resolution*"
   ]
  },
  {
   "attachments": {},
   "cell_type": "markdown",
   "metadata": {},
   "source": [
    "This demo illustrates the trade-off between the time resolution of a spectral analysis and its ability to resolve activity at different frequencies, known as the Fourer (or Heisenberg) uncertainty principle. In brief, using a longer time segment for estimating a spectrum results in better resolution of the spectrum, compared to using shorter segments. That is, more refined spectral information is available when using a longer segment. But because the spectrum integrates across time points, using longer time segments also means less temporal specificity of the spectrum. "
   ]
  },
  {
   "cell_type": "code",
   "execution_count": 2,
   "metadata": {},
   "outputs": [],
   "source": [
    "%matplotlib inline\n",
    "\n",
    "import numpy as np\n",
    "import matplotlib.pyplot as plt\n",
    "import scipy.io as sio\n",
    "import scipy.signal as sig\n",
    "import scipy.fft as fft"
   ]
  },
  {
   "attachments": {},
   "cell_type": "markdown",
   "metadata": {},
   "source": [
    "### Part 1: Representing a narrow-band signal in the DFT amplitude spectrum "
   ]
  },
  {
   "attachments": {},
   "cell_type": "markdown",
   "metadata": {},
   "source": [
    "Narrow-band signals are often related to artifacts, or are experimenter-generated brain responses at fixed rate such as the steady-state potential, driven by foxed rate modulation of a stimulus train. Because their exact frequency is known and their quantification often occurs in the frequency domain, they are a great example to illustrate some of the issues that come with the uncertainty principle. \n",
    "\n",
    "We start by making a discrete time vector, digitizing the simulated data at 1000 samples per second, i.e. a sample rate of 1000 Hz. \n"
   ]
  },
  {
   "cell_type": "code",
   "execution_count": 3,
   "metadata": {},
   "outputs": [
    {
     "data": {
      "text/plain": [
       "(5000,)"
      ]
     },
     "execution_count": 3,
     "metadata": {},
     "output_type": "execute_result"
    }
   ],
   "source": [
    "time = np.linspace(0.001,5, 5000) # Five seconds of discrete time, sampled at 1000 Hz\n",
    "time.shape"
   ]
  },
  {
   "attachments": {},
   "cell_type": "markdown",
   "metadata": {},
   "source": [
    "Now, a Brownian noise (biorealistic) time series not unlike EEG/LFP, representing one trial of neural mass data\n"
   ]
  },
  {
   "cell_type": "code",
   "execution_count": null,
   "metadata": {},
   "outputs": [],
   "source": [
    "temp=np.random.uniform(low=0.0, high=1.0, size=(5000))-0.5 # zero-centered white noise\n",
    "brownsig = np.cumsum(temp) # Brownian noise is the cumulative sum of white noise"
   ]
  },
  {
   "attachments": {},
   "cell_type": "markdown",
   "metadata": {},
   "source": [
    "Now, add 10.8 Hz sine wave to the Brownian noise. Note that the 10.8 Hz signal is relatively small and is not easily detected in the time domain data, with the unaided eye. Thus, its waveform shape or time ranges of interest would also be difficult to identify just by looking at the data. Thus, we will conduct DFT later. \n"
   ]
  },
  {
   "cell_type": "code",
   "execution_count": null,
   "metadata": {},
   "outputs": [],
   "source": [
    "SinWave = np.sin(2 * np.pi * time * 10.8) #a 10.8 Hz sine wave with amplitude 1\n",
    "testsig2  = brownsig - np.mean(brownsig) # zero-centered Brownian noise\n",
    "testsig1 = testsig2 + SinWave # add the sine wave\n",
    "testsig = sig.detrend(testsig1); # detrend\n",
    "\n",
    "fig,ax = plt.subplots(2,1)\n",
    "plt.subplot(2, 1, 1)\n",
    "plt.plot(time, brownsig)\n",
    "plt.title('The Brownian noise') # the real part\n",
    "plt.subplot(2, 1, 2)\n",
    "plt.plot(time, testsig)\n",
    "plt.title('The Brownian noise plus the 10.8 Hz sine wave') "
   ]
  },
  {
   "attachments": {},
   "cell_type": "markdown",
   "metadata": {},
   "source": [
    "Next, we compute the Discrete Fourier Transform, resulting in a complex spectrum with real (cosine-base) and imaginary (sine-base) components, then we plot the amplitude spectrum. Note the pronounced 1/f shape of the spectrum, with lower frequencies showing higher amplitude. \n"
   ]
  },
  {
   "cell_type": "code",
   "execution_count": null,
   "metadata": {},
   "outputs": [],
   "source": [
    "array = np.arange(5000)  # Create a numpy 1D array of 5000 points\n",
    "fig,ax = plt.subplots(5,1)\n",
    "\n",
    "step_size = 1000\n",
    "for index, start in enumerate(range(0, len(array), step_size)):\n",
    "    end = start + step_size\n",
    "    segment = array[start:end]\n",
    "    complexspectrum = fft.fft(testsig[segment-1])\n",
    "    faxis = fft.fftfreq(len(segment), 1/1000)\n",
    "    amplitudespec = complexspectrum/len(segment) # normalized amplitude spectrum\n",
    "    plt.subplot(5, 1, index+1)\n",
    "    plt.subplots_adjust(top=0.8)  # Adjust the top margin (increase the value for more space)\n",
    "    plt.plot(faxis[3:100], abs(complexspectrum[3:100]))\n",
    "    ax[index].set_xlim(4, 18)  # Set the x-axis limits to the range 4 to 18\n",
    "    plt.title('Amplitude spectrum based on a {}-sec segment'.format([index,index+1]))\n",
    "    plt.axvline(10.8, color='r', linestyle='--',linewidth=0.5)\n",
    "\n",
    "    if index < 4:\n",
    "        plt.xticks([]) # Remove the x-axis tick marks for all but the bottom plot \n",
    "    else:\n",
    "        ax[-1].set_xlabel('Frequency (Hz)')\n",
    "\n",
    "ax[2].set_ylabel('Amplitude')\n",
    "#plt.tight_layout()  # Improves the spacing between subplots\n",
    "fig.set_size_inches(5,10)\n",
    "plt.show()\n"
   ]
  },
  {
   "attachments": {},
   "cell_type": "markdown",
   "metadata": {},
   "source": [
    "Plot the spectra again, but zoomed in, for better visualization of the 10.8 Hz signal. "
   ]
  },
  {
   "cell_type": "code",
   "execution_count": null,
   "metadata": {},
   "outputs": [],
   "source": [
    "array = np.arange(5000)  # Create a numpy 1D array of 5000 points\n",
    "fig,ax = plt.subplots(5,1)\n",
    "\n",
    "step_size = 1000\n",
    "for index, start in enumerate(range(0, len(array), step_size)):\n",
    "    end = start + step_size\n",
    "    segment = array[start:end]\n",
    "    complexspectrum = fft.fft(testsig[segment-1])\n",
    "    faxis = fft.fftfreq(len(segment), 1/1000)\n",
    "    amplitudespec = complexspectrum/len(segment) # normalized amplitude spectrum\n",
    "    plt.subplot(5, 1, index+1)\n",
    "    plt.subplots_adjust(top=0.8)  # Adjust the top margin (increase the value for more space)\n",
    "    plt.plot(faxis[3:100], abs(complexspectrum[3:100]), linewidth=0.5, color='k', linestyle='-',alpha=0.5)\n",
    "    plt.scatter(faxis[3:100], abs(complexspectrum[3:100]), s=10, color='k', marker='o',alpha=0.5)\n",
    "    ax[index].set_xlim(4, 18)  # Set the x-axis limits to the range 4 to 18\n",
    "    plt.title('Amplitude spectrum based on a {}-sec segment'.format([index,index+1]))\n",
    "    plt.axvline(10.8, color='r', linestyle='--',linewidth=0.5)\n",
    "\n",
    "    if index < 4:\n",
    "        plt.xticks([]) # Remove the x-axis tick marks for all but the bottom plot \n",
    "    else:\n",
    "        ax[-1].set_xlabel('Frequency (Hz)')\n",
    "\n",
    "ax[2].set_ylabel('Amplitude')\n",
    "#plt.tight_layout()  # Improves the spacing between subplots\n",
    "fig.set_size_inches(5,10)\n",
    "plt.show()\n"
   ]
  },
  {
   "attachments": {},
   "cell_type": "markdown",
   "metadata": {},
   "source": [
    "Note that with increasing duration of the segment entered into DFT, the spectrum becomes more fine-grained. It is also clear from the above that the 10.8 Hz narrow band signal (vertical red line) is best captured by the 5 second time window , where the frequency resolution (the distance of the bins on the x-axis) is 1/5 = 0.2 Hz. With the other segment lengths, there is no x-tick that corresponds to 10.8 Hz. For example, with a 3 second window, the resolution is 1/3 = 0.33 Hz, and thus the spectrum will have bins at the following frequencies, none of which corresponds to 10.8 Hz:"
   ]
  },
  {
   "cell_type": "code",
   "execution_count": null,
   "metadata": {},
   "outputs": [],
   "source": [
    "frequencies = np.arange(0, 30.1, 1/3)\n",
    "print(\"frequencies (Hz) available in the spectrum based on a 3-second data segment:\")\n",
    "print(frequencies)\n"
   ]
  },
  {
   "attachments": {},
   "cell_type": "markdown",
   "metadata": {},
   "source": [
    "The absence of a bin at a given frequency will cause any narrow-band signal at that frequency to be represented at multiple other bins, typically the bins closest to the actual frequency. This is often called leaking, where spectral energy is showing up at frequencies other than the actual frequency, because of insufficient resolution of the spectrum. "
   ]
  },
  {
   "attachments": {},
   "cell_type": "markdown",
   "metadata": {},
   "source": [
    "Once a signal is not well represented in a DFT amplitude spectrum, it is difficult to recover. One intution a researcher may have is that averaging several trial will help to improve the measurement, despite suboptimal choice of segment duration. This field tests this assumption using our example. Let's make 50 segments and average the spectra based on 1-sec segments. To make things more interesting, let's use a 10.5 Hz oscillation, in between the 10 and 11 Hz bins which are represented in a 1-sec spectrum. "
   ]
  },
  {
   "cell_type": "code",
   "execution_count": null,
   "metadata": {},
   "outputs": [],
   "source": [
    "amplitudespec50 = np.zeros((50, 1000))\n",
    "SinWave = np.sin(2*np.pi*time[0:1000]*10.5) # a 10.5 Hz sine wave\n",
    "for trial in range(50):\n",
    "    temp=np.random.uniform(low=0.0, high=1.0, size=(1000))-0.5\n",
    "    brownsig = np.cumsum(temp) # Brownian noise is the cumulative sum of white noise\n",
    "    testsig2  = brownsig - np.mean(brownsig) # zero-centered Brownian noise\n",
    "    testsig1 = testsig2 + SinWave # add the sine wave\n",
    "    testsig = sig.detrend(testsig1) # detrend\n",
    "    complexspectrum = fft.fft((testsig[0:1000]))\n",
    "    amplitudespec50[trial,:] = abs(complexspectrum/len(complexspectrum)) # normalized amplitude spectrum\n",
    "\n",
    "faxis = fft.fftfreq(len(segment), 1/1000)\n",
    "plt.bar(faxis[2:25], np.mean(amplitudespec50[:,2:25], axis=0), width=0.5)\n",
    "plt.title('Averaging does not recover a frequency misrepresented by the DFT') #the absolute value (amplitude)\n",
    "plt.xlabel('Frequency (Hz)')\n",
    "plt.ylabel('Amplitude')\n",
    "plt.axvline(10.5, color='r', linestyle='--',linewidth=0.5)\n",
    "plt.axhline(np.mean(amplitudespec50[:, 11]), color='m', linestyle='--',linewidth=0.5)"
   ]
  },
  {
   "attachments": {},
   "cell_type": "markdown",
   "metadata": {},
   "source": [
    "It is apparent that averaging many trials with the 10.8 Hz signal misrepresented recovered some of the signal but it still fails to indicate its exact frequency. When aiming to measure a narrow band signal of interest, it is recommended to ensure that a frequency bin is located in the spectrum exactly at the frequency of interest. This can be ensured by calculating the wavelength (cycle duration) of the frequency of interest and using an integer multiple of that frequency. In our case: \n"
   ]
  },
  {
   "cell_type": "code",
   "execution_count": null,
   "metadata": {},
   "outputs": [],
   "source": [
    "# the wavelength of 10.5 Hz oscillation\n",
    "cycleduration = 1000/10.5 # in miliseconds\n",
    "print('cycleduration: ',cycleduration)\n",
    "# display the window length in miliseconds that result in spectra with a\n",
    "# bin at 10.8 Hz\n",
    "durationvector = np.arange(cycleduration,6000, cycleduration)\n",
    "print(durationvector)"
   ]
  },
  {
   "attachments": {},
   "cell_type": "markdown",
   "metadata": {},
   "source": [
    "A 2-sec segment duration would capture the 10.5 Hz oscillation. \n",
    "\n",
    "Let's try out what difference this makes."
   ]
  },
  {
   "cell_type": "code",
   "execution_count": null,
   "metadata": {},
   "outputs": [],
   "source": [
    "#time=np.arange(5000)\n",
    "amplitudespec50 = np.zeros((50, 2000))\n",
    "SinWave = np.sin(2*np.pi*time*10.5) # a 10.5 Hz sine wave\n",
    "for trial in range(50):\n",
    "    temp=np.random.uniform(low=0.0, high=1.0, size=len(time))-0.5\n",
    "    brownsig = np.cumsum(temp) # Brownian noise is the cumulative sum of white noise\n",
    "    testsig2  = brownsig - np.mean(brownsig) # zero-centered Brownian noise\n",
    "    testsig1 = testsig2 + SinWave # add the sine wave\n",
    "    testsig = sig.detrend(testsig1) # detrend\n",
    "    complexspectrum = fft.fft((testsig[0:2000]))\n",
    "    amplitudespec50[trial,:] = abs(complexspectrum/len(complexspectrum)) # normalized amplitude spectrum\n",
    "\n",
    "faxis = fft.fftfreq(500,2/500)\n",
    "plt.bar(faxis[4:60], np.mean(amplitudespec50[:,4:60], axis=0), width=0.5)\n",
    "plt.title('Selecting the appropriate window length correctly represents narrow band signal') #the absolute value (amplitude)\n",
    "plt.xlabel('Frequency (Hz)')\n",
    "plt.ylabel('Amplitude')\n",
    "plt.axvline(10.5, color='r', linestyle='--',linewidth=0.5)\n",
    "plt.axhline(np.mean(amplitudespec50[:, 11]), color='m', linestyle='--',linewidth=0.5)\n"
   ]
  },
  {
   "attachments": {},
   "cell_type": "markdown",
   "metadata": {},
   "source": [
    "It is evident that the 10.5 Hz oscillation is not just more concentrated in one bin, but that the total amplitude captured with appropriate frequency resolution (horizontal green line) exceeds the amplitude estimated from the combined 10 and 11 Hz bins in the 1-sec spectrum (horizontal magenta line in the figure above). Thus, leaking leads to underestimation of the true spectral amplitude and will bias empirical studies of narrow band oscillations. How about broader-band phenomena? We will examine this question next. \n"
   ]
  },
  {
   "attachments": {},
   "cell_type": "markdown",
   "metadata": {},
   "source": [
    "### Part 2: Representing broad-band phenomona in the DFT amplitude spectrum & the inverse problem"
   ]
  },
  {
   "attachments": {},
   "cell_type": "markdown",
   "metadata": {},
   "source": [
    "In this second portion of the demo, we will examine the ability of DFT to characterize rhythmic activity that is more variable in frequency, covering a broader band, i.e. multiple frequencies, rather than one frequency. "
   ]
  },
  {
   "attachments": {},
   "cell_type": "markdown",
   "metadata": {},
   "source": [
    "We start by making a discrete time vector, at which the signal will be sampled. "
   ]
  },
  {
   "cell_type": "code",
   "execution_count": null,
   "metadata": {},
   "outputs": [],
   "source": [
    "time = np.linspace(0.001,5, 1000) #one second of discrete time\n",
    "faxis = faxis = fft.fftfreq(500,1/500) #frequency axis goes from 0 to nyquist in steps of 1\n",
    "faxis"
   ]
  },
  {
   "attachments": {},
   "cell_type": "markdown",
   "metadata": {},
   "source": [
    "... now we make 50 trials of white noise (stochastic) segments, the same noise to be used for all future simulations in this demo. We display the noise and the spectrum of each simulated trial. Note the flat nature of the spectrum"
   ]
  },
  {
   "cell_type": "code",
   "execution_count": null,
   "metadata": {},
   "outputs": [],
   "source": [
    "whitesig = np.random.uniform(low=0.0, high=1.0, size=(50,1000))-0.5 #zero centered white noise\n",
    "\n",
    "sumspec=np.zeros((50,1000))\n",
    "for trial in range(50):\n",
    "    plt.subplot(2,1,1)\n",
    "    plt.plot(time, whitesig[trial,:]), plt.xlabel('Time (sec)'), plt.ylabel('Voltage'), plt.title('1 second of white noise')\n",
    "    fftspec = fft.fft(whitesig[trial,:]) # calculate DFT\n",
    "    sumspec[trial,:] = abs(fftspec) # save it for later\n",
    "    plt.subplot(2,1,2)\n",
    "    plt.plot(faxis[1:30], abs(fftspec[1:30])), plt.xlabel('Frequency (Hz)'),plt.ylabel('Amplitude'),plt.title('Amplitude spectrum')\n"
   ]
  },
  {
   "attachments": {},
   "cell_type": "markdown",
   "metadata": {},
   "source": [
    "Next, we repeat that process with the cumulative sum of the white noise, which results in brownian noise. The spectrum of brownian noise is expected to have a 1/f shape, characteristic for biological (including neural) systems. We also add a brief 400-ms oscillatory response to each trial, in the middle of the 1-sec time segment (300 to 700 ms). Many authors define an oscillation as a narrow band signal, so we add a narrow band signal to each trial, but the exact frequency of the narrow band signal varies between trials. We let it vary to randomly take on values within the young adult alpha range 8 to 13 Hz. \n"
   ]
  },
  {
   "cell_type": "code",
   "execution_count": null,
   "metadata": {},
   "outputs": [],
   "source": [
    "sumspec1=np.zeros((50,1000))\n",
    "brownsig=np.zeros((50,1000))\n",
    "time = np.linspace(0,1, 1000) #one second of discrete time\n",
    "for trial in range(50):\n",
    "    brownsig[trial,:] = np.cumsum(whitesig[trial,:]) # Brownian noise is the cumulative sum of white noise\n",
    "    alphasig = np.sin(2*np.pi*time*np.random.uniform(low=8.0, high=13.0, size=1))*3 # a random alpha wave\n",
    "    #print(brownsig[300:700].shape)\n",
    "    brownsig[trial,300:700] = brownsig[trial,300:700] + alphasig[300:700] # add the alpha wave\n",
    "    plt.subplot(2,1,1)\n",
    "    plt.plot(time, brownsig[trial,:]), plt.xlabel('Time (sec)'), plt.ylabel('Voltage'), plt.title('1 second of Brownian noise')\n",
    "    fftspec=fft.fft(brownsig[trial,:]) # calculate DFT\n",
    "    sumspec1[trial,:] = np.abs(fftspec) # save it for later\n",
    "    plt.subplot(2,1,2)\n",
    "    plt.plot( np.abs(fftspec[2:30])), plt.xlabel('Frequency (Hz)'),plt.ylabel('Amplitude'),plt.title('Amplitude spectrum')\n",
    "\n",
    "fig = plt.figure()\n",
    "plt.plot(np.mean(sumspec1[:,2:30], axis=0)), plt.xlabel('Frequency (Hz)'),plt.ylabel('Amplitude'),plt.title('Average amplitude spectrum')\n"
   ]
  },
  {
   "attachments": {},
   "cell_type": "markdown",
   "metadata": {},
   "source": [
    "Is this result uniquely interpretable as evidence of variable alpha-band events in the 8 to 13 Hz range? Next, we repeat the process above, but we decrease the variability of the tempora rate of the simulated alpha band oscillations to frequencies between 10 and 11 Hz. We also shorten the duration of the oscillatory event to just 200 ms (as opposed to the 400 ms in the example in the previous field). \n"
   ]
  },
  {
   "cell_type": "code",
   "execution_count": null,
   "metadata": {},
   "outputs": [],
   "source": [
    "sumspec2=np.zeros((50,1000))\n",
    "brownsig=np.zeros((50,1000))\n",
    "time = np.linspace(0,1, 1000) #one second of discrete time\n",
    "for trial in range(50):\n",
    "    brownsig[trial,:] = np.cumsum(whitesig[trial,:]) # Brownian noise is the cumulative sum of white noise\n",
    "    alphasig = np.sin(2*np.pi*time*np.random.uniform(low=10.0, high=11.0, size=1))*4 # a random alpha wave\n",
    "    #print(brownsig[300:700].shape)\n",
    "    brownsig[trial,400:600] = brownsig[trial,400:600] + alphasig[400:600] # add the alpha wave\n",
    "    plt.subplot(2,1,1)\n",
    "    plt.plot(time, brownsig[trial,:]), plt.xlabel('Time (sec)'), plt.ylabel('Voltage'), plt.title('1 second of Brownian noise')\n",
    "    fftspec=fft.fft(brownsig[trial,:]) # calculate DFT\n",
    "    sumspec2[trial,:] = np.abs(fftspec) # save it for later\n",
    "    plt.subplot(2,1,2)\n",
    "    plt.plot( np.abs(fftspec[2:30])), plt.xlabel('Frequency (Hz)'),plt.ylabel('Amplitude'),plt.title('Amplitude spectrum')\n"
   ]
  },
  {
   "attachments": {},
   "cell_type": "markdown",
   "metadata": {},
   "source": [
    "Let's compare the results. In red, the averaged spectrum (the average of 50 spectra for 50 trials) with oscillatory events in the range from 300 to 700 ms of the 1000 ms (1-second) segment, varying between 8 and 13 Hz across trials. In blue, the averaged spectrum (the average of 50 spectra for 50 trials) with oscillatory events in the range from 400 to 600 ms of the 1000 ms (1-second) segment, varying between 10 and 11 Hz across trials.\n"
   ]
  },
  {
   "cell_type": "code",
   "execution_count": null,
   "metadata": {},
   "outputs": [],
   "source": [
    "fig = plt.figure()\n",
    "plt.plot(np.mean(sumspec1[:, 2:30], axis=0))\n",
    "plt.plot(np.mean(sumspec2[:, 2:30], axis=0))\n",
    "plt.xlabel('Frequency (Hz)'),plt.ylabel('Amplitude'),plt.title('Averaged amplitude spectrum')\n",
    "plt.legend(['Mean spectrum of variable (8-13Hz) alpha (400ms duration)', 'Mean spectrum of variable (10-11 Hz) alpha (200ms duration)'])"
   ]
  },
  {
   "attachments": {},
   "cell_type": "markdown",
   "metadata": {},
   "source": [
    "The results show that in most runs (feel free to run this simulation multiple times), the two spectra cannot be reliably discriminated. A shorter burst of a narro band oscillation may look like longer bursts of a more variable oscillation, because the shorter burst cannot be localized as well in the frequency domain, and spreads out across the x-axis (frequency axis) of teh spectrum. Even non-oscillatory (transient) events may be misrepresented in that way. Feel free to change the code in line 108 to make shorter bursts than 400:600 ms, to see the effects of a shorter amplitude modulation in the data. Thus, based on the shape of the averaged power spectrum alone, it is difficult to infer the causes that led to what appears to be an alpha peak in the spectrum. This lack of unique interpretability is known as the inverse problem and is ubiquitous in scientific measurement theory: Inferring the causes of a low-dimensional measurement is often compared to the task of guessing what 3-D object cast a 2-dimensional shadow on the wall . There are infinite numbers of objects that are capable of casting the same 2-D shadow, and thus a unique inference cannot be made without further information or assumptions (here is a discussion of the inverse problem in source estimation: http://www.scholarpedia.org/article/Source_localization#An_overview_of_all_the_models). The same is the case with averaged spectra. Examining the temporal dynamics of the oscillation, as well as single-trial amplitude/power spectra, and the phase spectrum are viable strategies for addressing this problem.  \n"
   ]
  },
  {
   "cell_type": "code",
   "execution_count": null,
   "metadata": {},
   "outputs": [],
   "source": [
    "\n",
    "# %% [matlab]\n",
    "# SinWave = sin(2*pi*time*10.8); % a 10.8 Hz sine wave\n",
    "# testsig2  = brownsig-mean(brownsig); % zero-centered Brownian noise\n",
    "# testsig1 = testsig2 + SinWave; % add the sine wave\n",
    "# testsig = detrend(testsig1); % detrend\n",
    "# figure\n",
    "# subplot(2,1,1), plot(time, brownsig), title('The Brownian noise') % the real part\n",
    "# subplot(2,1,2), plot(time, testsig), title('The Brownian noise plus the 10.8 Hz sine wave') \n",
    "\n",
    "\n",
    "# %% [markdown]\n",
    "# # figure\n",
    "\n",
    "# %%\n",
    "# fig,ax = plt.subplots(5,1)\n",
    "# for index in range(1,6):\n",
    "#     segment = np.arange(1,1000) * index #+ 1 # look at increasing segments\n",
    "#     complexspectrum = fft.fft(testsig(segment-1))\n",
    "#     #faxis = 0:1000/length(segment):500; # the frequancy axis always ranges from 0 to 500, but steps get smaller as length increases\n",
    "#     #faxis = np.arange(0, 1000/len(segment), 500)\n",
    "#     faxis = fft.fftfreq(len(segment), 1/1000)\n",
    "#     amplitudespec = complexspectrum/len(segment) # normalized amplitude spectrum\n",
    "#     subplot(index,1) \n",
    "#     b1 = plot(faxis(2:25*index), abs(complexspectrum(2:25*index))) # title(['amplitude spectrum based on a ' num2str(index) '-sec segment']) # the absolute value (amplitude)\n",
    "#     #xline(10.8)\n",
    "#     plt.title('amplitude spectrum based on a {}-sec segment'.format(index))\n",
    "#     plt.axvline(10.8)\n",
    "#     ax[index].set_xlabel('Time (s)')\n",
    "#     ax[index].set_ylabel('Amplitude')\n",
    "\n",
    "# %%\n",
    "\n",
    "# %%\n",
    "\n",
    "# for index in range(1, 6):\n",
    "#     segment = np.arange(1, 1000*index+1)  # look at increasing segments\n",
    "#     complexspectrum = np.fft.fft(testsig[segment-1])\n",
    "#     faxis = np.arange(0, 1000/len(segment), 500)  # the frequency axis always ranges from 0 to 500, but steps get smaller as length increases\n",
    "#     amplitudespec = complexspectrum/len(segment)  # normalized amplitude spectrum\n",
    "#     plt.subplot(5, 1, index)\n",
    "#     b1 = plt.plot(faxis[2:25*index], np.abs(complexspectrum[2:25*index]))\n",
    "#     plt.title('amplitude spectrum based on a {}-sec segment'.format(index))\n",
    "#     plt.axvline(10.8)\n",
    "    \n",
    "# plt.show()\n",
    "\n",
    "\n",
    "# %% [matlab]\n",
    "# for index = 1:5\n",
    "#     segment = 1:1000*index; % look at increasing segments\n",
    "#     complexspectrum = fft(testsig(segment));\n",
    "#     faxis = 0:1000/length(segment):500; % the frequancy axis always ranges from 0 to 500, but steps get smaller as length increases\n",
    "#     amplitudespec = complexspectrum./length(segment); % normalized amplitude spectrum\n",
    "#     subplot(5,1,index), b1 = plot(faxis(3:25*index), abs(complexspectrum(3:25*index))); title(['amplitude spectrum based on a ' num2str(index) '-sec segment']) % the absolute value (amplitude)\n",
    "#     xline(10.8)\n",
    "# end\n",
    "\n",
    "\n",
    "# %% [markdown]\n",
    "# \n",
    "\n",
    "# %%\n",
    "\n",
    "# %% [matlab]\n",
    "\n",
    "# figure\n",
    "# for index = 1:5\n",
    "#     segment = 1:1000*index; % look at increasing segments\n",
    "#     complexspectrum = fft(testsig(segment));\n",
    "#     faxis = 0:1000/length(segment):500; % the frequancy axis always ranges from 0 to 500, but steps get smaller as length increases\n",
    "#     amplitudespec = complexspectrum./length(segment); % normalized amplitude spectrum\n",
    "#     subplot(5,1,index), b1 = plot(faxis(3:25*index), abs(complexspectrum(3:25*index))); title(['amplitude spectrum based on a ' num2str(index) '-sec segment']) % the absolute value (amplitude)\n",
    "#     xlabel('Frequency in Hz') \n",
    "#     xlim([4 18])\n",
    "#     xline(10.8, 'r')\n",
    "# end\n",
    "\n",
    "\n",
    "\n",
    "# %% [matlab]\n",
    "# frequencies = 0:1/3:30;\n",
    "# disp('frequencies (Hz) available in the spectrum based on a 3-second data segment:')\n",
    "# disp(frequencies')\n",
    "\n",
    "# %% [matlab]\n",
    "# figure\n",
    "# amplitudespec50 = []; \n",
    "# SinWave = sin(2*pi*time*10.5); % a 10.5 Hz sine wave\n",
    "# for trial = 1:50\n",
    "#     temp1 = rand(size(time))-.5; % zero-centered white nois\n",
    "#     brownsig = cumsum(temp1);  % Brownian noise is the cumulative sum of white noise    \n",
    "#     testsig2  = brownsig-mean(brownsig); % zero-centered Brownian noise\n",
    "#     testsig1 = testsig2 + SinWave; % add the sine wave\n",
    "#     testsig = detrend(testsig1); % detrend\n",
    "#     complexspectrum = fft((testsig(1:1000)));\n",
    "#     amplitudespec50(trial,:) = abs(complexspectrum./length(segment));\n",
    "# end\n",
    "# faxis = 0:500;\n",
    "# bar(faxis(4:30), mean(amplitudespec50(:, 4:30))); \n",
    "# title(['Averaging does not recover a frequency misrepresented by the DFT']) % the absolute value (amplitude)\n",
    "# xlabel('Frequency in Hz') \n",
    "# xline(10.5, 'r')\n",
    "# yline (mean(amplitudespec50(:, 11)), 'm')\n",
    "\n",
    "# %% [markdown]\n",
    "# # \n",
    "\n",
    "# %%\n",
    "\n",
    "\n",
    "# %% [matlab]\n",
    "# % the wavelength of 10.5 Hz oscillation\n",
    "# cycleduration = 1000/10.5 % in miliseconds\n",
    "# % display the window length in miliseconds that result in spectra with a\n",
    "# % bin at 10.8 Hz\n",
    "# durationvector = cycleduration:cycleduration:6000;\n",
    "# disp(durationvector')\n",
    "\n",
    "# %% [markdown]\n",
    "# \n",
    "# %%\n",
    "\n",
    "# %%  [matlab]\n",
    "# figure\n",
    "# amplitudespec50 = []; \n",
    "# SinWave = sin(2*pi*time*10.5); % a 10.5 Hz sine wave\n",
    "# for trial = 1:50\n",
    "#     temp1 = rand(size(time))-.5; % zero-centered white nois\n",
    "#     brownsig = cumsum(temp1);  % Brownian noise is the cumulative sum of white noise    \n",
    "#     testsig2  = brownsig-mean(brownsig); % zero-centered Brownian noise\n",
    "#     testsig1 = testsig2 + SinWave; % add the sine wave\n",
    "#     testsig = detrend(testsig1); % detrend\n",
    "#     complexspectrum = fft((testsig(1:2000)));\n",
    "#     amplitudespec50(trial,:) = abs(complexspectrum./length(segment));\n",
    "# end\n",
    "# faxis = 0:0.5:500;\n",
    "# bar(faxis(4:60), mean(amplitudespec50(:, 4:60))); \n",
    "# title(['Selecting the appropriate window length correctly represents narrow band signal']) % the absolute value (amplitude)\n",
    "# xlabel('Frequency in Hz') \n",
    "# xline(10.5, 'r')\n",
    "# yline (mean(amplitudespec50(:, 22)), 'g')\n"
   ]
  }
 ],
 "metadata": {
  "kernelspec": {
   "display_name": "neo2mne",
   "language": "python",
   "name": "python3"
  },
  "language_info": {
   "codemirror_mode": {
    "name": "ipython",
    "version": 3
   },
   "file_extension": ".py",
   "mimetype": "text/x-python",
   "name": "python",
   "nbconvert_exporter": "python",
   "pygments_lexer": "ipython3",
   "version": "3.8.16"
  },
  "orig_nbformat": 4
 },
 "nbformat": 4,
 "nbformat_minor": 2
}
