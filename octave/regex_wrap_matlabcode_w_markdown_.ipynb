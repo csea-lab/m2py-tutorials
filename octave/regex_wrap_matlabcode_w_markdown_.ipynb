{
 "cells": [
  {
   "cell_type": "code",
   "execution_count": null,
   "metadata": {},
   "outputs": [],
   "source": []
  },
  {
   "cell_type": "code",
   "execution_count": 1,
   "metadata": {},
   "outputs": [
    {
     "name": "stdout",
     "output_type": "stream",
     "text": [
      "/Users/mears/Documents/programming/m_projects/tutorials_m2py/github/m2py-tutorials/octave\n",
      "/Users/mears\n",
      "/Users/mears/Documents/programming/m_projects/tutorials_m2py/github/m2py-tutorials/octave\n"
     ]
    },
    {
     "data": {
      "text/plain": [
       "[PosixPath('/Users/mears/Documents/programming/m_projects/tutorials_m2py/github/m2py-tutorials/octave/drew5.m'),\n",
       " PosixPath('/Users/mears/Documents/programming/m_projects/tutorials_m2py/github/m2py-tutorials/octave/drew1.m'),\n",
       " PosixPath('/Users/mears/Documents/programming/m_projects/tutorials_m2py/github/m2py-tutorials/octave/GrangerCausality.m'),\n",
       " PosixPath('/Users/mears/Documents/programming/m_projects/tutorials_m2py/github/m2py-tutorials/octave/Crossfreq_coupling.m'),\n",
       " PosixPath('/Users/mears/Documents/programming/m_projects/tutorials_m2py/github/m2py-tutorials/octave/drew2.m'),\n",
       " PosixPath('/Users/mears/Documents/programming/m_projects/tutorials_m2py/github/m2py-tutorials/octave/introto_DFT.m'),\n",
       " PosixPath('/Users/mears/Documents/programming/m_projects/tutorials_m2py/github/m2py-tutorials/octave/filters.m'),\n",
       " PosixPath('/Users/mears/Documents/programming/m_projects/tutorials_m2py/github/m2py-tutorials/octave/IRF_findsingletrialbetas.m'),\n",
       " PosixPath('/Users/mears/Documents/programming/m_projects/tutorials_m2py/github/m2py-tutorials/octave/wavelet_walkthru.m'),\n",
       " PosixPath('/Users/mears/Documents/programming/m_projects/tutorials_m2py/github/m2py-tutorials/octave/hilbertavgdemo.m'),\n",
       " PosixPath('/Users/mears/Documents/programming/m_projects/tutorials_m2py/github/m2py-tutorials/octave/drew.m'),\n",
       " PosixPath('/Users/mears/Documents/programming/m_projects/tutorials_m2py/github/m2py-tutorials/octave/innerproduct.m'),\n",
       " PosixPath('/Users/mears/Documents/programming/m_projects/tutorials_m2py/github/m2py-tutorials/octave/Fourier_demo.m'),\n",
       " PosixPath('/Users/mears/Documents/programming/m_projects/tutorials_m2py/github/m2py-tutorials/octave/drew3.m'),\n",
       " PosixPath('/Users/mears/Documents/programming/m_projects/tutorials_m2py/github/m2py-tutorials/octave/MicroSaCondiSpas.m'),\n",
       " PosixPath('/Users/mears/Documents/programming/m_projects/tutorials_m2py/github/m2py-tutorials/octave/de_convolution.m'),\n",
       " PosixPath('/Users/mears/Documents/programming/m_projects/tutorials_m2py/github/m2py-tutorials/octave/HilbertPhaseDemo.m'),\n",
       " PosixPath('/Users/mears/Documents/programming/m_projects/tutorials_m2py/github/m2py-tutorials/octave/MNE_SourceEstimation.m')]"
      ]
     },
     "execution_count": 1,
     "metadata": {},
     "output_type": "execute_result"
    }
   ],
   "source": [
    "import re\n",
    "import os\n",
    "from pathlib import Path\n",
    "\n",
    "#wdir='/Users/mears/Documents/programming/py_projects/miso-project-pipeline/processed_2022/ar16/'\n",
    "#w_dir=Path(wdir)\n",
    "w_dir=Path.cwd()\n",
    "#m_dir=w_dir.joinpath('octave')\n",
    "print(Path.cwd())\n",
    "print(Path.home())\n",
    "print(w_dir)\n",
    "str_npz = w_dir.glob('*.m') #iterdir()\n",
    "#print(w_dir)\n",
    "filestr=[fzs for fzs in str_npz]\n",
    "filestr"
   ]
  },
  {
   "cell_type": "code",
   "execution_count": 6,
   "metadata": {},
   "outputs": [
    {
     "data": {
      "text/plain": [
       "[PosixPath('/Users/mears/Documents/programming/m_projects/tutorials_m2py/github/m2py-tutorials/octave/introto_DFT.m'),\n",
       " PosixPath('/Users/mears/Documents/programming/m_projects/tutorials_m2py/github/m2py-tutorials/octave/filters.m'),\n",
       " PosixPath('/Users/mears/Documents/programming/m_projects/tutorials_m2py/github/m2py-tutorials/octave/hilbertavgdemo.m'),\n",
       " PosixPath('/Users/mears/Documents/programming/m_projects/tutorials_m2py/github/m2py-tutorials/octave/innerproduct.m'),\n",
       " PosixPath('/Users/mears/Documents/programming/m_projects/tutorials_m2py/github/m2py-tutorials/octave/Fourier_demo.m'),\n",
       " PosixPath('/Users/mears/Documents/programming/m_projects/tutorials_m2py/github/m2py-tutorials/octave/HilbertPhaseDemo.m')]"
      ]
     },
     "execution_count": 6,
     "metadata": {},
     "output_type": "execute_result"
    }
   ],
   "source": [
    "new_lst = [filestr[i] for i in [5,6,9,11,12,-2]] #[1,4,10,13]]\n",
    "new_lst"
   ]
  },
  {
   "cell_type": "code",
   "execution_count": 7,
   "metadata": {},
   "outputs": [
    {
     "name": "stdout",
     "output_type": "stream",
     "text": [
      "/Users/mears/Documents/programming/m_projects/tutorials_m2py/github/m2py-tutorials/octave/introto_DFT.m\n",
      "/Users/mears/Documents/programming/m_projects/tutorials_m2py/github/m2py-tutorials/octave/introto_DFT.txt\n",
      "/Users/mears/Documents/programming/m_projects/tutorials_m2py/github/m2py-tutorials/octave/filters.m\n",
      "/Users/mears/Documents/programming/m_projects/tutorials_m2py/github/m2py-tutorials/octave/filters.txt\n",
      "/Users/mears/Documents/programming/m_projects/tutorials_m2py/github/m2py-tutorials/octave/hilbertavgdemo.m\n",
      "/Users/mears/Documents/programming/m_projects/tutorials_m2py/github/m2py-tutorials/octave/hilbertavgdemo.txt\n",
      "/Users/mears/Documents/programming/m_projects/tutorials_m2py/github/m2py-tutorials/octave/innerproduct.m\n",
      "/Users/mears/Documents/programming/m_projects/tutorials_m2py/github/m2py-tutorials/octave/innerproduct.txt\n",
      "/Users/mears/Documents/programming/m_projects/tutorials_m2py/github/m2py-tutorials/octave/Fourier_demo.m\n",
      "/Users/mears/Documents/programming/m_projects/tutorials_m2py/github/m2py-tutorials/octave/Fourier_demo.txt\n",
      "/Users/mears/Documents/programming/m_projects/tutorials_m2py/github/m2py-tutorials/octave/HilbertPhaseDemo.m\n",
      "/Users/mears/Documents/programming/m_projects/tutorials_m2py/github/m2py-tutorials/octave/HilbertPhaseDemo.txt\n"
     ]
    }
   ],
   "source": [
    "for i,flst in enumerate(new_lst):\n",
    "\n",
    "    # Define the file path\n",
    "    filename, extension = os.path.splitext(flst)\n",
    "    print(flst)\n",
    "    print(filename + \".txt\")\n",
    "\n",
    "    # Open the file in read mode\n",
    "    with open(flst, \"r\") as f:\n",
    "\n",
    "        # Read the file contents and generate a list with each line\n",
    "        with open(filename + \".txt\", \"w\") as fw:\n",
    "            lines = re.split('\\n',f.read())\n",
    "            \n",
    "            prefix2 = \"\\n# %% [matlab]\\n\"\n",
    "            suffix2 = \"\\n#--\\n# %% [markdown]\"\n",
    "\n",
    "            new_lines = []\n",
    "            buffer = []\n",
    "            \n",
    "            # Process the lines\n",
    "            for line in lines:\n",
    "                if line.startswith('%'):\n",
    "                    if buffer:  # If the buffer is not empty, process the group of lines\n",
    "                        new_lines.append(prefix2 + '\\n'.join(buffer) + suffix2)\n",
    "                        buffer = []\n",
    "                    new_lines.append(line)\n",
    "                else:\n",
    "                    buffer.append(line)\n",
    "            # Process the last group of lines if necessary\n",
    "            if buffer:\n",
    "                new_lines.append(prefix2 + '\\n'.join(buffer) + suffix2)\n",
    "            new_string = '\\n'.join(new_lines)\n",
    "            fw.write(new_string)\n",
    "\n",
    "            # Close the output file\n",
    "            fw.close()\n",
    "\n",
    "        # Close the input file\n",
    "        f.close()   \n"
   ]
  }
 ],
 "metadata": {
  "kernelspec": {
   "display_name": "neo2mne",
   "language": "python",
   "name": "python3"
  },
  "language_info": {
   "codemirror_mode": {
    "name": "ipython",
    "version": 3
   },
   "file_extension": ".py",
   "mimetype": "text/x-python",
   "name": "python",
   "nbconvert_exporter": "python",
   "pygments_lexer": "ipython3",
   "version": "3.8.16"
  },
  "orig_nbformat": 4
 },
 "nbformat": 4,
 "nbformat_minor": 2
}
